{
 "cells": [
  {
   "cell_type": "code",
   "execution_count": 1,
   "id": "ece869ee",
   "metadata": {},
   "outputs": [
    {
     "name": "stdout",
     "output_type": "stream",
     "text": [
      "Namah Shivaya!\n"
     ]
    }
   ],
   "source": [
    "#1\n",
    "print(\"Namah Shivaya!\")"
   ]
  },
  {
   "cell_type": "code",
   "execution_count": 2,
   "id": "100b17a9",
   "metadata": {},
   "outputs": [
    {
     "name": "stdout",
     "output_type": "stream",
     "text": [
      "Enter the first numnber:2\n",
      "Enter the second number3\n",
      "The sum of the two numbers is:  5\n"
     ]
    }
   ],
   "source": [
    "#@\n",
    "first_num=int (input(\"Enter the first numnber:\"))\n",
    "second_num=int (input(\"Enter the second number\"))\n",
    "print(\"The sum of the two numbers is: \",first_num+second_num)"
   ]
  },
  {
   "cell_type": "code",
   "execution_count": 3,
   "id": "2a6b32d6",
   "metadata": {},
   "outputs": [
    {
     "name": "stdout",
     "output_type": "stream",
     "text": [
      "Enter Your Name:hdd\n",
      "Namah Shivaya! hdd\n"
     ]
    }
   ],
   "source": [
    "#3\n",
    "name=input(\"Enter Your Name:\")\n",
    "print(\"Namah Shivaya!\", name)"
   ]
  },
  {
   "cell_type": "code",
   "execution_count": 6,
   "id": "c7697afe",
   "metadata": {},
   "outputs": [
    {
     "name": "stdout",
     "output_type": "stream",
     "text": [
      "The area of the rectangle is: 200\n"
     ]
    }
   ],
   "source": [
    "#4\n",
    "lnth=10\n",
    "wdth=20\n",
    "print(\"The area of the rectangle is:\", lnth*wdth)"
   ]
  },
  {
   "cell_type": "code",
   "execution_count": 7,
   "id": "a1cde843",
   "metadata": {},
   "outputs": [
    {
     "name": "stdout",
     "output_type": "stream",
     "text": [
      "Enter the temp in celcius: 34\n",
      "The same temp in farenheit is:  93.2\n"
     ]
    }
   ],
   "source": [
    "#5\n",
    "ctemp=float(input (\"Enter the temp in celcius: \"))\n",
    "print(\"The same temp in farenheit is: \", (9/5)*ctemp+32)"
   ]
  },
  {
   "cell_type": "code",
   "execution_count": null,
   "id": "c40f2973",
   "metadata": {},
   "outputs": [],
   "source": []
  }
 ],
 "metadata": {
  "kernelspec": {
   "display_name": "Python 3 (ipykernel)",
   "language": "python",
   "name": "python3"
  },
  "language_info": {
   "codemirror_mode": {
    "name": "ipython",
    "version": 3
   },
   "file_extension": ".py",
   "mimetype": "text/x-python",
   "name": "python",
   "nbconvert_exporter": "python",
   "pygments_lexer": "ipython3",
   "version": "3.12.3"
  }
 },
 "nbformat": 4,
 "nbformat_minor": 5
}
